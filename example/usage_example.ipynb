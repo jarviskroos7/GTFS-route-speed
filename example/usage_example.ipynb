{
 "cells": [
  {
   "cell_type": "markdown",
   "metadata": {},
   "source": [
    "# `GTFS-route-speed` example usage"
   ]
  },
  {
   "cell_type": "markdown",
   "metadata": {},
   "source": [
    "notebook written by Jarvis Yuan, updated 10/11/2020\n",
    "\n",
    "- demonstrate the usage of the simple python script, both in command line and as module in jupyter notebook\n",
    "- will be using an modified (to save additional space) example GTFS feed aquired from [transitfeeds.com](https://transitfeeds.com/p/simur-bogota/973) placed within the root directory of this repo, `example_feed`, that is unzipped."
   ]
  },
  {
   "cell_type": "code",
   "execution_count": 1,
   "metadata": {},
   "outputs": [],
   "source": [
    "import os\n",
    "import pandas as pd\n",
    "import numpy as np\n",
    "import warnings\n",
    "warnings.filterwarnings(\"ignore\")\n",
    "\n",
    "# change the path to the repo directory\n",
    "os.chdir('/Users/admin/GTFS-route-speed')"
   ]
  },
  {
   "cell_type": "code",
   "execution_count": 2,
   "metadata": {},
   "outputs": [
    {
     "name": "stdout",
     "output_type": "stream",
     "text": [
      "=========================================================================================================\n",
      "GTFS route speed calculation script: \n",
      "\n",
      "! no path was inputed, set absolute path to GTFS feeds to current directory /Users/admin/GTFS-route-speed\n",
      "! no shapes.txt exists in the GTFS feed provided, will be using stops.txt for straightline route disatnce approximation.\n",
      "=========================================================================================================\n"
     ]
    }
   ],
   "source": [
    "# import the module\n",
    "from route_speed import get_avg_route_speed"
   ]
  },
  {
   "cell_type": "code",
   "execution_count": 3,
   "metadata": {},
   "outputs": [
    {
     "name": "stdout",
     "output_type": "stream",
     "text": [
      "for route 6-4 ...\n",
      "at hour:  5\n",
      "actual departing time of trip TR_446_10_TM : 05:00:46\n",
      "* route distance = 4.498779300844143 miles\n",
      "* route travel time = 947.0 seconds\n",
      ".\n",
      "..\n",
      "...\n",
      "....\n",
      ".....\n",
      "--> avg route speed of bus route = 17.102012125701073 mph\n"
     ]
    },
    {
     "data": {
      "text/plain": [
       "17.102012125701073"
      ]
     },
     "execution_count": 3,
     "metadata": {},
     "output_type": "execute_result"
    }
   ],
   "source": [
    "get_avg_route_speed(route_short_name='6-4', \n",
    "                    path='/Users/admin/GTFS-route-speed/example_feed',\n",
    "                    hasShape=True, hour=5)"
   ]
  },
  {
   "cell_type": "code",
   "execution_count": null,
   "metadata": {},
   "outputs": [],
   "source": []
  }
 ],
 "metadata": {
  "kernelspec": {
   "display_name": "Python 3",
   "language": "python",
   "name": "python3"
  },
  "language_info": {
   "codemirror_mode": {
    "name": "ipython",
    "version": 3
   },
   "file_extension": ".py",
   "mimetype": "text/x-python",
   "name": "python",
   "nbconvert_exporter": "python",
   "pygments_lexer": "ipython3",
   "version": "3.7.6"
  }
 },
 "nbformat": 4,
 "nbformat_minor": 4
}
