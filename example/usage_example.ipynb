{
 "cells": [
  {
   "cell_type": "markdown",
   "metadata": {},
   "source": [
    "# `GTFS-route-speed` example usage"
   ]
  },
  {
   "cell_type": "markdown",
   "metadata": {},
   "source": [
    "notebook written by Jarvis Yuan, updated 10/25/2020\n",
    "\n",
    "- demonstrate the usage of the simple python script, both in command line and as module in jupyter notebook\n",
    "- will be using an **modified and incomplete** (to save additional space) example GTFS feed aquired from [transitfeeds.com](https://transitfeeds.com/p/simur-bogota/973) placed within the root directory of this repo, `example_feed`, that is unzipped.\n",
    "\n",
    "**update 10/17: added the functionality of specifiying a day in the week for route speed calculation**\n",
    "**update 10/25: fixed a typo in the script**"
   ]
  },
  {
   "cell_type": "code",
   "execution_count": 1,
   "metadata": {},
   "outputs": [],
   "source": [
    "import os\n",
    "import pandas as pd\n",
    "import numpy as np\n",
    "import warnings\n",
    "warnings.filterwarnings(\"ignore\")\n",
    "\n",
    "# change the path to the repo directory\n",
    "os.chdir('/Users/admin/GTFS-route-speed')"
   ]
  },
  {
   "cell_type": "code",
   "execution_count": 2,
   "metadata": {},
   "outputs": [
    {
     "name": "stderr",
     "output_type": "stream",
     "text": [
      "WARNING: no path was inputed, set absolute path to GTFS feeds to current directory /Users/admin/GTFS-route-speed\n",
      "WARNING: no shapes.txt exists in the GTFS feed provided, will be using stops.txt for straightline route disatnce approximation\n"
     ]
    },
    {
     "name": "stdout",
     "output_type": "stream",
     "text": [
      "GTFS route speed calculation script: loaded!\n",
      "default feed path /Users/admin/GTFS-route-speed\n"
     ]
    }
   ],
   "source": [
    "# import the function\n",
    "from route_speed import get_avg_route_speed"
   ]
  },
  {
   "cell_type": "markdown",
   "metadata": {},
   "source": [
    "## parameters\n",
    "\n",
    "- **`route_short_name`**: `string`, example: '6-4'\n",
    "- **`route_id`**: `int`, example: 99446\n",
    "- **`trip_id`**: `string`, example: 'TR_446_100_TM'\n",
    "- **`path`**: `string`, example: '~/GTFS-route-speed/example_feed'\n",
    "- **`hasShape`**: `boolean`, True/False\n",
    "- **`hour`**: `int`, example: 7, *optional*\n",
    "- **`day`**: `string`, example: 'monday', lower-cased, *optional*\n",
    "\n",
    "only one of [`route_short_name`, `route_id`, `trip_id`] is needed for a route calculation"
   ]
  },
  {
   "cell_type": "code",
   "execution_count": 3,
   "metadata": {},
   "outputs": [
    {
     "name": "stdout",
     "output_type": "stream",
     "text": [
      "- for bus route with route_short_name: 6-4 ...\n",
      "-- service is available on monday for route 99446\n",
      "-- cauculating route speed on monday\n",
      "-- at hour: 6\n",
      "actual departing time of trip TR_446_20_TM : 06:02:02\n",
      "* route distance= 4.498779300844143 miles\n",
      "* route travel time = 947.0 seconds\n",
      ".\n",
      ".\n",
      ".\n",
      "result: average route speed of specified bus route = 17.102012125701073 mph\n"
     ]
    },
    {
     "data": {
      "text/plain": [
       "17.102012125701073"
      ]
     },
     "execution_count": 3,
     "metadata": {},
     "output_type": "execute_result"
    }
   ],
   "source": [
    "# example\n",
    "\n",
    "get_avg_route_speed(route_short_name='6-4', \n",
    "                    path='/Users/admin/GTFS-route-speed/example_feed',\n",
    "                    hasShape=True, hour=6, day='monday')"
   ]
  },
  {
   "cell_type": "markdown",
   "metadata": {},
   "source": [
    "### using the script in a loop\n",
    "for a list of routes:"
   ]
  },
  {
   "cell_type": "code",
   "execution_count": 4,
   "metadata": {
    "scrolled": false
   },
   "outputs": [
    {
     "name": "stdout",
     "output_type": "stream",
     "text": [
      "- for bus route with route_short_name: 6-4 ...\n",
      "-- service is available on monday for route 99446\n",
      "-- cauculating route speed on monday\n",
      "-- at hour: 5\n",
      "actual departing time of trip TR_446_10_TM : 05:00:46\n",
      "* route distance= 4.498779300844143 miles\n",
      "* route travel time = 947.0 seconds\n",
      ".\n",
      ".\n",
      ".\n",
      "result: average route speed of specified bus route = 17.102012125701073 mph\n",
      "\n",
      "- for bus route with route_short_name: 742 ...\n",
      "-- service is available on monday for route 1364\n",
      "-- cauculating route speed on monday\n",
      "-- at hour: 5\n",
      "actual departing time of trip TR_1364_1 : 05:58:33\n",
      "* route distance= 27.5788013739398 miles\n",
      "* route travel time = 7663.0 seconds\n",
      ".\n",
      ".\n",
      ".\n",
      "result: average route speed of specified bus route = 12.956242326266903 mph\n",
      "\n",
      "- for bus route with route_short_name: 736 ...\n",
      "-- service is available on monday for route 570\n",
      "-- cauculating route speed on monday\n",
      "-- at hour: 5\n",
      "actual departing time of trip TR_570_1 : 05:59:41\n",
      "* route distance= 29.844231767217913 miles\n",
      "* route travel time = 8570.0 seconds\n",
      ".\n",
      ".\n",
      ".\n",
      "result: average route speed of specified bus route = 12.536666786695973 mph\n",
      "\n",
      "list of route speeds on monday at hour 5: [17.102012125701073, 12.956242326266903, 12.536666786695973]\n"
     ]
    }
   ],
   "source": [
    "# a list of route_short_names\n",
    "\n",
    "routes = ['6-4', '742', '736']\n",
    "route_speeds = []\n",
    "path = '/Users/admin/Desktop/bogota_urap/data/bogota_gtfs' # the example_feed feed is not complete to save time for\n",
    "                                                           # github uploading\n",
    "hasShape = True\n",
    "hour = 5\n",
    "day = 'monday'\n",
    "\n",
    "for route_short_name in routes:\n",
    "    route_speeds.append(get_avg_route_speed(route_short_name = route_short_name, \n",
    "                                     path = path,\n",
    "                                     hasShape = hasShape,\n",
    "                                     hour = hour,\n",
    "                                     day = day))\n",
    "    print()\n",
    "print(f'list of route speeds on {day} at hour {hour}: {route_speeds}')"
   ]
  },
  {
   "cell_type": "code",
   "execution_count": null,
   "metadata": {},
   "outputs": [],
   "source": []
  }
 ],
 "metadata": {
  "kernelspec": {
   "display_name": "Python 3",
   "language": "python",
   "name": "python3"
  },
  "language_info": {
   "codemirror_mode": {
    "name": "ipython",
    "version": 3
   },
   "file_extension": ".py",
   "mimetype": "text/x-python",
   "name": "python",
   "nbconvert_exporter": "python",
   "pygments_lexer": "ipython3",
   "version": "3.8.3"
  }
 },
 "nbformat": 4,
 "nbformat_minor": 4
}
